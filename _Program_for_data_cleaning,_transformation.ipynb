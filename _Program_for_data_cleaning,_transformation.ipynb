{
  "nbformat": 4,
  "nbformat_minor": 0,
  "metadata": {
    "colab": {
      "provenance": []
    },
    "kernelspec": {
      "name": "python3",
      "display_name": "Python 3"
    },
    "language_info": {
      "name": "python"
    }
  },
  "cells": [
    {
      "cell_type": "code",
      "source": [
        "import pandas as pd\n",
        "\n",
        "# Create a sample DataFrame with missing values and inconsistent data\n",
        "data = {\n",
        "    'Name': ['John', 'Amy', 'Peter', 'Sara'],\n",
        "    'Age': [25, None, 35, 40],\n",
        "    'Gender': ['Male', 'Female', 'M', 'Female'],\n",
        "    'Salary': ['$5000', '$6000', '7000', '$8000']\n",
        "}\n",
        "df = pd.DataFrame(data)\n",
        "\n",
        "# Display the original DataFrame\n",
        "print(\"Original DataFrame:\")\n",
        "print(df)\n",
        "\n",
        "# Data cleaning and transformation\n",
        "\n",
        "# Fill missing values with the mean age\n",
        "mean_age = df['Age'].mean()\n",
        "df['Age'].fillna(mean_age, inplace=True)\n",
        "\n",
        "# Convert gender to a consistent format\n",
        "df['Gender'] = df['Gender'].replace({'M': 'Male', 'F': 'Female'})\n",
        "\n",
        "# Remove leading dollar sign and convert salary to numeric\n",
        "df['Salary'] = df['Salary'].str.replace('$', '').astype(int)\n",
        "\n",
        "# Display the cleaned and transformed DataFrame\n",
        "print(\"\\nCleaned and Transformed DataFrame:\")\n",
        "print(df)\n"
      ],
      "metadata": {
        "colab": {
          "base_uri": "https://localhost:8080/"
        },
        "id": "aXJzAdLRNVLu",
        "outputId": "41e7f99e-787c-4e5d-b8f1-4ce3a627ae86"
      },
      "execution_count": 4,
      "outputs": [
        {
          "output_type": "stream",
          "name": "stdout",
          "text": [
            "Original DataFrame:\n",
            "    Name   Age  Gender Salary\n",
            "0   John  25.0    Male  $5000\n",
            "1    Amy   NaN  Female  $6000\n",
            "2  Peter  35.0       M   7000\n",
            "3   Sara  40.0  Female  $8000\n",
            "\n",
            "Cleaned and Transformed DataFrame:\n",
            "    Name        Age  Gender  Salary\n",
            "0   John  25.000000    Male    5000\n",
            "1    Amy  33.333333  Female    6000\n",
            "2  Peter  35.000000    Male    7000\n",
            "3   Sara  40.000000  Female    8000\n"
          ]
        },
        {
          "output_type": "stream",
          "name": "stderr",
          "text": [
            "<ipython-input-4-0257a091ba41>:26: FutureWarning: The default value of regex will change from True to False in a future version. In addition, single character regular expressions will *not* be treated as literal strings when regex=True.\n",
            "  df['Salary'] = df['Salary'].str.replace('$', '').astype(int)\n"
          ]
        }
      ]
    }
  ]
}