{
  "nbformat": 4,
  "nbformat_minor": 0,
  "metadata": {
    "colab": {
      "provenance": []
    },
    "kernelspec": {
      "name": "python3",
      "display_name": "Python 3"
    },
    "language_info": {
      "name": "python"
    }
  },
  "cells": [
    {
      "cell_type": "code",
      "execution_count": 1,
      "metadata": {
        "colab": {
          "base_uri": "https://localhost:8080/"
        },
        "id": "81NKnuRKMzY3",
        "outputId": "7f31d418-06f4-475d-a171-df24fbe51c23"
      },
      "outputs": [
        {
          "output_type": "stream",
          "name": "stdout",
          "text": [
            "Matrix Addition:\n",
            "[[10 10 10]\n",
            " [10 10 10]\n",
            " [10 10 10]]\n",
            "\n",
            "Matrix Subtraction:\n",
            "[[-8 -6 -4]\n",
            " [-2  0  2]\n",
            " [ 4  6  8]]\n",
            "\n",
            "Matrix Multiplication:\n",
            "[[ 30  24  18]\n",
            " [ 84  69  54]\n",
            " [138 114  90]]\n",
            "\n",
            "Matrix Transpose:\n",
            "[[1 4 7]\n",
            " [2 5 8]\n",
            " [3 6 9]]\n",
            "\n",
            "Eigenvalues of Matrix A:\n",
            "[ 1.61168440e+01 -1.11684397e+00 -1.30367773e-15]\n",
            "\n",
            "Eigenvectors of Matrix A:\n",
            "[[-0.23197069 -0.78583024  0.40824829]\n",
            " [-0.52532209 -0.08675134 -0.81649658]\n",
            " [-0.8186735   0.61232756  0.40824829]]\n",
            "\n",
            "Correlation Matrix:\n",
            "[[1. 1. 1.]\n",
            " [1. 1. 1.]\n",
            " [1. 1. 1.]]\n"
          ]
        }
      ],
      "source": [
        "import numpy as np\n",
        "\n",
        "# Creating matrices\n",
        "A = np.array([[1, 2, 3],\n",
        "              [4, 5, 6],\n",
        "              [7, 8, 9]])\n",
        "\n",
        "B = np.array([[9, 8, 7],\n",
        "              [6, 5, 4],\n",
        "              [3, 2, 1]])\n",
        "\n",
        "# Matrix addition\n",
        "C = A + B\n",
        "print(\"Matrix Addition:\")\n",
        "print(C)\n",
        "\n",
        "# Matrix subtraction\n",
        "D = A - B\n",
        "print(\"\\nMatrix Subtraction:\")\n",
        "print(D)\n",
        "\n",
        "# Matrix multiplication\n",
        "E = np.dot(A, B)\n",
        "print(\"\\nMatrix Multiplication:\")\n",
        "print(E)\n",
        "\n",
        "# Transpose of a matrix\n",
        "F = A.T\n",
        "print(\"\\nMatrix Transpose:\")\n",
        "print(F)\n",
        "\n",
        "# Eigenvalues and eigenvectors of a matrix\n",
        "eigenvalues, eigenvectors = np.linalg.eig(A)\n",
        "print(\"\\nEigenvalues of Matrix A:\")\n",
        "print(eigenvalues)\n",
        "print(\"\\nEigenvectors of Matrix A:\")\n",
        "print(eigenvectors)\n",
        "\n",
        "# Calculate correlation matrix\n",
        "correlation_matrix = np.corrcoef(A.T)\n",
        "print(\"\\nCorrelation Matrix:\")\n",
        "print(correlation_matrix)\n"
      ]
    }
  ]
}