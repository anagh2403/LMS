{
  "nbformat": 4,
  "nbformat_minor": 0,
  "metadata": {
    "colab": {
      "provenance": []
    },
    "kernelspec": {
      "name": "python3",
      "display_name": "Python 3"
    },
    "language_info": {
      "name": "python"
    }
  },
  "cells": [
    {
      "cell_type": "markdown",
      "source": [
        "Name:- Anagh Garg \n",
        "Reg.no:- 20BAI10127\n",
        "Date:- 29-09-2022"
      ],
      "metadata": {
        "id": "L1c2-6q-PseJ"
      }
    },
    {
      "cell_type": "code",
      "source": [
        "#q1\n",
        "\n",
        "n = int(input())\n",
        "arr_set = set(map(int, input().split()))\n",
        "arr_list = list(arr_set)\n",
        "arr_list.sort()\n",
        "if (len(arr_list)) >= 2:\n",
        " arr_list.pop()\n",
        " print (arr_list[-1])\n",
        "else:\n",
        " print (arr_list[-1])"
      ],
      "metadata": {
        "id": "P_HnyJ4SOAm-",
        "colab": {
          "base_uri": "https://localhost:8080/"
        },
        "outputId": "a609f844-3c63-4933-eb8a-c2cc5efc3170"
      },
      "execution_count": null,
      "outputs": [
        {
          "output_type": "stream",
          "name": "stdout",
          "text": [
            "1\n",
            "2\n",
            "2\n"
          ]
        }
      ]
    },
    {
      "cell_type": "code",
      "source": [
        "#Q2\n",
        "\n",
        "hours = float(input(\"Enter the number of hours\"))\n",
        "minutes = float(input(\"Enter the number of minutes\"))\n",
        "\n",
        "if hours>7:\n",
        "  print(\"Not valid\")\n",
        "\n",
        "elif hours>=5 and hours<=9:\n",
        "  amount = 300\n",
        "  hours = hours-5\n",
        "  total_amount = hours*100/2 + minutes*2/2 + amount\n",
        "\n",
        "elif hours<5:\n",
        "  total_amount = hours*100/2 + minutes*2/2\n",
        "\n",
        "print(\"The total amount is : \",total_amount)"
      ],
      "metadata": {
        "id": "SJQiviDsBINj",
        "colab": {
          "base_uri": "https://localhost:8080/"
        },
        "outputId": "d3e7c629-3677-4939-eec9-93f53185bc6b"
      },
      "execution_count": null,
      "outputs": [
        {
          "output_type": "stream",
          "name": "stdout",
          "text": [
            "Enter the number of hours5\n",
            "Enter the number of minutes12\n",
            "The total amount is :  312.0\n"
          ]
        }
      ]
    },
    {
      "cell_type": "code",
      "source": [],
      "metadata": {
        "id": "no9R8BAfFyJt"
      },
      "execution_count": null,
      "outputs": []
    },
    {
      "cell_type": "code",
      "source": [
        "#Q3\n",
        "\n",
        "\n",
        "\n",
        "x = int(input(\"Amount with Ganesh: \"))\n",
        "\n",
        "laptops = {\"Hp\":{\"Price\":53000,\"Size of Screen\" : 32},\n",
        "\"Asus\":{\"Price\":59000,\"Size of Screen\" : 42},\n",
        "\"lenovo\":{\"Price\":37000,\"Size of Screen\" : 72},\n",
        "\"Dell\":{\"Price\":80000,\"Size of Screen\" : 52}}\n",
        "\n",
        "max_size = 0\n",
        "\n",
        "\n",
        "for i in laptops.keys():\n",
        "    if(laptops[i][\"Price\"]<= x):\n",
        "        max_size  = max(max_size, laptops[i][\"Size of Screen\"])\n",
        "    else:\n",
        "        continue\n",
        "\n",
        "if(max_size==0):\n",
        "    print(\"No Laptop in Budget\")\n",
        "\n",
        "else:\n",
        "    for i in laptops.keys():\n",
        "        if(laptops[i][\"Size of Screen\"] == max_size):\n",
        "            print(\"Details of Laptop in Budget\")\n",
        "            print(\"Name of Laptop = \", i)\n",
        "            print(\"Price = \", laptops[i][\"Price\"])\n",
        "            print(\"Size of Screen = \", laptops[i][\"Size of Screen\"])\n",
        "            break"
      ],
      "metadata": {
        "id": "XyMkPD5BHUtP",
        "colab": {
          "base_uri": "https://localhost:8080/"
        },
        "outputId": "ecaa4037-20d7-4ee7-f1ab-e29596dd2f83"
      },
      "execution_count": null,
      "outputs": [
        {
          "output_type": "stream",
          "name": "stdout",
          "text": [
            "Amount with Ganesh: 30000\n",
            "No Laptop in Budget\n"
          ]
        }
      ]
    },
    {
      "cell_type": "code",
      "execution_count": null,
      "metadata": {
        "colab": {
          "base_uri": "https://localhost:8080/"
        },
        "id": "xCHm4TKJ8yNK",
        "outputId": "d84718c6-4ffd-4c19-d8e8-5ede893b7a5c"
      },
      "outputs": [
        {
          "output_type": "stream",
          "name": "stdout",
          "text": [
            "25\n",
            "The student is a sophomore.\n"
          ]
        }
      ],
      "source": [
        "#Q4\n",
        "\n",
        "\n",
        "n = int(input())\n",
        "\n",
        "if 0<=n<=23:\n",
        "    print(\"The student is a freshman.\")\n",
        "elif 24<=n<=53:\n",
        "    print(\"The student is a sophomore.\")\n",
        "elif 54<=n<=83:\n",
        "    print(\"The student is a Junior.\")\n",
        "elif n>=84:\n",
        "    print(\"The student is a Senior.\")\n",
        "else:\n",
        "    print(\"Not valid\")\n",
        "\n",
        "\n"
      ]
    }
  ]
}