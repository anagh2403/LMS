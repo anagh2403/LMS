{
  "nbformat": 4,
  "nbformat_minor": 0,
  "metadata": {
    "colab": {
      "provenance": []
    },
    "kernelspec": {
      "name": "python3",
      "display_name": "Python 3"
    },
    "language_info": {
      "name": "python"
    }
  },
  "cells": [
    {
      "cell_type": "markdown",
      "source": [
        "Name:- Anagh Garg\n",
        "Reg.no :- 20BAI10127"
      ],
      "metadata": {
        "id": "pV5N8Lz-ssJQ"
      }
    },
    {
      "cell_type": "code",
      "source": [
        "#1\n",
        "x = 10+2j\n",
        "y = 7+9j\n",
        "#Addition\n",
        "print(x+y)\n",
        "#Subtraction\n",
        "print(x-y)\n",
        "#Multiplication\n",
        "print(x*y)\n",
        "#Check if equal\n",
        "if(x.real==y.real):\n",
        "  print(\"Equal\")\n",
        "elif(x.real>y.real):\n",
        "  print(\"x is greater than y\")\n",
        "else:\n",
        "  print(\"y is greater than x\")"
      ],
      "metadata": {
        "colab": {
          "base_uri": "https://localhost:8080/"
        },
        "id": "l7iZYXFWha-x",
        "outputId": "ba1d1982-79d7-407e-98f1-41d8e472b459"
      },
      "execution_count": null,
      "outputs": [
        {
          "output_type": "stream",
          "name": "stdout",
          "text": [
            "(17+11j)\n",
            "(3-7j)\n",
            "(52+104j)\n",
            "x is greater than y\n"
          ]
        }
      ]
    },
    {
      "cell_type": "code",
      "source": [
        "#2\n",
        "class Circle():\n",
        "    def __init__(self, r):\n",
        "        self.radius = r\n",
        "\n",
        "    def area_circle(self):\n",
        "        return self.radius**2*3.14\n",
        "    \n",
        "    def perimeter_circle(self):\n",
        "        return 2*self.radius*3.14\n",
        "\n",
        "New_circle = Circle(5)\n",
        "print(New_circle.area_circle())\n",
        "print(New_circle.perimeter_circle())"
      ],
      "metadata": {
        "colab": {
          "base_uri": "https://localhost:8080/"
        },
        "id": "CZJKOkiPha2-",
        "outputId": "33d74d0c-892f-4bb6-82ab-1b8265def67b"
      },
      "execution_count": null,
      "outputs": [
        {
          "output_type": "stream",
          "name": "stdout",
          "text": [
            "78.5\n",
            "31.400000000000002\n"
          ]
        }
      ]
    },
    {
      "cell_type": "code",
      "source": [
        "#3\n",
        "class Rectangle():\n",
        "    def __init__(self, l, w):\n",
        "        self.length = l\n",
        "        self.width  = w\n",
        "\n",
        "    def area_rect(self):\n",
        "        return self.length*self.width"
      ],
      "metadata": {
        "id": "dAdxHQfvhapW"
      },
      "execution_count": null,
      "outputs": []
    },
    {
      "cell_type": "code",
      "execution_count": null,
      "metadata": {
        "id": "V-r_tRUT3saE"
      },
      "outputs": [],
      "source": [
        "#4 \n",
        "\n",
        "class Address:\n",
        "\tdef _init_(self, street_name, number):\n",
        "\t\tself.street_name = street_name\n",
        "\t\tself.number = number"
      ]
    },
    {
      "cell_type": "code",
      "source": [
        "#5\n",
        "\n",
        "class bikes:\n",
        "  def _init_(self, model, colour):\n",
        "    self.model = model\n",
        "    self.colour = colour\n",
        "\n",
        "class Yamaha(bikes):\n",
        "  def _init_(self, year, make):\n",
        "    self.year = year\n",
        "    self.make = make\n",
        "\n",
        "class Bullet(bikes):\n",
        "  def _init_(self, year, make):\n",
        "    self.year = year\n",
        "    self.make = make\n",
        "\n",
        "class Hero_honda(bikes):\n",
        "  def _init_(self, year, make):\n",
        "    self.year = year\n",
        "    self.make = make"
      ],
      "metadata": {
        "id": "KPK_DMgu4diK"
      },
      "execution_count": null,
      "outputs": []
    },
    {
      "cell_type": "code",
      "source": [
        "#6\n",
        "\n",
        "class Person:\n",
        "    def __init__(self, name, valid_id):\n",
        "        self.name = name\n",
        "        self.valid_id = valid_id\n",
        "    def print(self):\n",
        "        print(f'\\nName: {self.name}')\n",
        "        print(f'Valid ID: {self.valid_id}')\n",
        "class Student(Person):\n",
        "    def __init__(self, name, valid_id, age):\n",
        "        super().__init__(name, valid_id)\n",
        "        self.age = age\n",
        "    def print(self):\n",
        "        super().print()  \n",
        "        print(f'Age: {self.age}')\n",
        "    def change_age(self, age):\n",
        "        self.age = age\n",
        "    def change_name(self, name):\n",
        "        self.name = name\n",
        "    \n",
        "# Driver Code\n",
        "student = Student(\"Anagh Garg\", \"20BAI10127\", \"20\")\n",
        "student.print()\n",
        "student.change_age(20)\n",
        "student.change_name(\"Hamza\")\n",
        "student.print()\n",
        "\n"
      ],
      "metadata": {
        "colab": {
          "base_uri": "https://localhost:8080/"
        },
        "id": "7kf9vj8jhvOf",
        "outputId": "bbedb4fd-98cf-46d9-c01d-58365350e36a"
      },
      "execution_count": null,
      "outputs": [
        {
          "output_type": "stream",
          "name": "stdout",
          "text": [
            "\n",
            "Name: Anagh Garg\n",
            "Valid ID: 20BAI10127\n",
            "Age: 20\n",
            "\n",
            "Name: Hamza\n",
            "Valid ID: 20BAI10127\n",
            "Age: 20\n"
          ]
        }
      ]
    },
    {
      "cell_type": "code",
      "source": [
        "#7\n",
        "\n",
        "class Student:\n",
        "    school = 'NMIMS'\n",
        "    address = 'Mumbai' \n",
        "\n",
        "#student 1\n",
        "\n",
        "student1 = Student()\n",
        "student1.student_name = \"Kartikeya Srivastava\"\n",
        "student1.student_id = \"24-CY-098\"\n",
        "student1.marks_Marathi = 100\n",
        "student1.marks_Social_Science = 56\n",
        "student1.marks_English = 78\n",
        "\n",
        "\n",
        "#student 2\n",
        "student2 = Student() \n",
        "student2.student_name = \"Vaishnavi Jha\"\n",
        "student2.student_id = \"23-AI-125\"\n",
        "student2.marks_Marathi = 94\n",
        "student2.marks_Social_Science = 91\n",
        "student2.marks_English = 80\n",
        "students = [student1, student2]\n",
        "for student in students:\n",
        "    print('\\n')\n",
        "    for attr in student.__dict__:\n",
        "        print(f'{attr} -> {getattr(student, attr)}')"
      ],
      "metadata": {
        "colab": {
          "base_uri": "https://localhost:8080/"
        },
        "id": "euCFkJAh3wLH",
        "outputId": "d9333b15-3e9e-4a03-efa0-d3326c20bfdc"
      },
      "execution_count": null,
      "outputs": [
        {
          "output_type": "stream",
          "name": "stdout",
          "text": [
            "\n",
            "\n",
            "student_name -> Kartikeya Srivastava\n",
            "student_id -> 24-CY-098\n",
            "marks_Marathi -> 100\n",
            "marks_Social_Science -> 56\n",
            "marks_English -> 78\n",
            "\n",
            "\n",
            "student_name -> Vaishnavi Jha\n",
            "student_id -> 23-AI-125\n",
            "marks_Marathi -> 94\n",
            "marks_Social_Science -> 91\n",
            "marks_English -> 80\n"
          ]
        }
      ]
    },
    {
      "cell_type": "code",
      "source": [
        "#8\n",
        "class Animal:\n",
        "    def __init__(self, type, name, color, age):\n",
        "        self.type = type\n",
        "        self.name = name\n",
        "        self.color = color\n",
        "        self.age = age\n",
        "    def print(self):\n",
        "        print(f'Type: {self.type}, Name: {self.name}, Color: {self.color}, Age: {self.age}')\n",
        "    \n",
        "class Horse(Animal):\n",
        "    pass\n",
        "class Cow(Animal):\n",
        "    pass\n",
        "class Sheep(Animal):\n",
        "    pass\n",
        "horse = Horse(\"Domestic\", \"Horse\", \"Black\", 12)\n",
        "horse.print()\n",
        "cow = Cow(\"Domestic\", \"Cow\", \"White\", 5)\n",
        "cow.print()\n"
      ],
      "metadata": {
        "colab": {
          "base_uri": "https://localhost:8080/"
        },
        "id": "44-0tlV2hwwA",
        "outputId": "11595dbc-2b34-4d4d-94c6-1e6d22ee7590"
      },
      "execution_count": null,
      "outputs": [
        {
          "output_type": "stream",
          "name": "stdout",
          "text": [
            "Type: Domestic, Name: Horse, Color: Black, Age: 12\n",
            "Type: Domestic, Name: Cow, Color: White, Age: 5\n"
          ]
        }
      ]
    },
    {
      "cell_type": "code",
      "source": [
        "#9\n",
        "\n",
        "class Test:\n",
        "  def __init__(self):\n",
        "    self.x = 1\n",
        "  def x_value(self):\n",
        "    self.x = 10\n",
        "  \n",
        "class Test_derived(Test):\n",
        "  def x_value(self):\n",
        "    self.x=self.x+1\n",
        "    return self.x\n",
        "    \n",
        "def main():\n",
        "  obj = Test_derived()\n",
        "  print(obj.x_value())\n",
        "main()"
      ],
      "metadata": {
        "id": "zMgfK-2phxm8",
        "colab": {
          "base_uri": "https://localhost:8080/"
        },
        "outputId": "dd0db551-31a7-49e2-f07c-6c0ada5f3283"
      },
      "execution_count": null,
      "outputs": [
        {
          "output_type": "stream",
          "name": "stdout",
          "text": [
            "2\n"
          ]
        }
      ]
    },
    {
      "cell_type": "code",
      "source": [
        "#10\n",
        "import numpy as np\n",
        "#1st matrix\n",
        "A = np.array([[7, 3], [23, 5]])\n",
        "  \n",
        "#2nd matrix\n",
        "B = np.array([[1, 9], [23, 24]])\n",
        "  \n",
        "print(\"Printing elements of 1st matrix\")\n",
        "print(A)\n",
        "print(\"Printing elements of 2nd matrix\")\n",
        "print(B)\n",
        "  \n",
        "# adding \n",
        "print(\"Addition of two matrix\")\n",
        "print(np.add(A, B))\n",
        "\n",
        "# subtracting \n",
        "print(\"Subtraction of two matrix\")\n",
        "print(np.subtract(A, B))\n",
        "\n",
        "# multiplying \n",
        "print(\"Multiplcation of two matrix\")\n",
        "print(np.multiply(A, B))\n",
        "\n"
      ],
      "metadata": {
        "colab": {
          "base_uri": "https://localhost:8080/"
        },
        "id": "Jb5xL0dv3ziS",
        "outputId": "585c77cf-37e0-4031-9d84-d1761871c756"
      },
      "execution_count": null,
      "outputs": [
        {
          "output_type": "stream",
          "name": "stdout",
          "text": [
            "Printing elements of 1st matrix\n",
            "[[ 7  3]\n",
            " [23  5]]\n",
            "Printing elements of 2nd matrix\n",
            "[[ 1  9]\n",
            " [23 24]]\n",
            "Addition of two matrix\n",
            "[[ 8 12]\n",
            " [46 29]]\n",
            "Subtraction of two matrix\n",
            "[[  6  -6]\n",
            " [  0 -19]]\n",
            "Multiplcation of two matrix\n",
            "[[  7  27]\n",
            " [529 120]]\n"
          ]
        }
      ]
    },
    {
      "cell_type": "code",
      "source": [
        "#11\n",
        "\n",
        "\n",
        "fruit_set = set()\n",
        "fruit_set.add(\"Banana\")\n",
        "print(fruit_set)\n",
        "fruit_set.update([\"Apple\",\"Mango\"])\n",
        "print(fruit_set)"
      ],
      "metadata": {
        "colab": {
          "base_uri": "https://localhost:8080/"
        },
        "id": "KrHEfmQW33ak",
        "outputId": "480ebdda-072e-464a-b2cd-694d99774a9f"
      },
      "execution_count": null,
      "outputs": [
        {
          "output_type": "stream",
          "name": "stdout",
          "text": [
            "{'Banana'}\n",
            "{'Banana', 'Mango', 'Apple'}\n"
          ]
        }
      ]
    },
    {
      "cell_type": "code",
      "source": [
        "#12\n",
        "\n",
        "num_set =set([0,1,3,4,5])\n",
        "print(\"All elements in set:\")\n",
        "print(num_set)\n",
        "print(\"\\nRemove 3 from set:\")\n",
        "num_set.discard(3)\n",
        "print(num_set)"
      ],
      "metadata": {
        "colab": {
          "base_uri": "https://localhost:8080/"
        },
        "id": "J8_0XKBc38Jy",
        "outputId": "601610a8-fa66-455d-b1c6-1e71ae00d2b7"
      },
      "execution_count": null,
      "outputs": [
        {
          "output_type": "stream",
          "name": "stdout",
          "text": [
            "All elements in set:\n",
            "{0, 1, 3, 4, 5}\n",
            "\n",
            "Remove 3 from set:\n",
            "{0, 1, 4, 5}\n"
          ]
        }
      ]
    },
    {
      "cell_type": "code",
      "source": [
        "#13\n",
        "\n",
        "def multiply(z):\n",
        "\n",
        "    a = 1\n",
        "\n",
        "    for k in z:\n",
        "\n",
        "        a*= k\n",
        "\n",
        "    return a\n",
        "\n",
        "list=[11,22,14,79,102]\n",
        "\n",
        "print(multiply (list))"
      ],
      "metadata": {
        "colab": {
          "base_uri": "https://localhost:8080/"
        },
        "id": "uvERw3Wr4Lco",
        "outputId": "911c4a6d-e196-41d8-9322-04898a993824"
      },
      "execution_count": null,
      "outputs": [
        {
          "output_type": "stream",
          "name": "stdout",
          "text": [
            "27300504\n"
          ]
        }
      ]
    },
    {
      "cell_type": "code",
      "source": [
        "#14\n",
        "\n",
        "Number_list = [10,2,3,6,8,89,25,264]\n",
        " \n",
        "Number_list.sort()\n",
        " \n",
        "\n",
        "print(\"Largest element is:\", *Number_list[7:8])"
      ],
      "metadata": {
        "colab": {
          "base_uri": "https://localhost:8080/"
        },
        "id": "zVTqpQJG4PPQ",
        "outputId": "ca39f315-3e0a-4a7a-feb6-0b1dd1ec33c1"
      },
      "execution_count": null,
      "outputs": [
        {
          "output_type": "stream",
          "name": "stdout",
          "text": [
            "Largest element is: 264\n"
          ]
        }
      ]
    },
    {
      "cell_type": "code",
      "source": [
        "  #15\n",
        "\n",
        "Number_list = [10,2,3,6,8,89,25,264]\n",
        " \n",
        "Number_list.sort()\n",
        " \n",
        "\n",
        "print(\"Smallest element is:\", *Number_list[0:1])"
      ],
      "metadata": {
        "colab": {
          "base_uri": "https://localhost:8080/"
        },
        "id": "PCnrqTP94WR2",
        "outputId": "bc00ef6f-ee08-4f53-f082-18bc366a77ae"
      },
      "execution_count": null,
      "outputs": [
        {
          "output_type": "stream",
          "name": "stdout",
          "text": [
            "Smallest element is: 2\n"
          ]
        }
      ]
    }
  ]
}