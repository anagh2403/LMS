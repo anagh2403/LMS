{
  "nbformat": 4,
  "nbformat_minor": 0,
  "metadata": {
    "colab": {
      "provenance": []
    },
    "kernelspec": {
      "name": "python3",
      "display_name": "Python 3"
    },
    "language_info": {
      "name": "python"
    }
  },
  "cells": [
    {
      "cell_type": "code",
      "source": [
        "import numpy as np\n",
        "import pandas as pd\n",
        "from sklearn.feature_selection import SelectKBest, f_regression\n",
        "from sklearn.preprocessing import PolynomialFeatures\n",
        "\n",
        "# Feature Generation\n",
        "\n",
        "# Create a sample dataset\n",
        "X = np.array([[1, 2],\n",
        "              [3, 4],\n",
        "              [5, 6]])\n",
        "\n",
        "# Polynomial Features\n",
        "poly = PolynomialFeatures(degree=2)\n",
        "X_poly = poly.fit_transform(X)\n",
        "\n",
        "print(\"Polynomial Features:\")\n",
        "print(X_poly)\n",
        "\n",
        "# Feature Selection\n",
        "\n",
        "# Create a sample dataset\n",
        "data = {\n",
        "    'Feature1': [1, 2, 3, 4, 5],\n",
        "    'Feature2': [6, 7, 8, 9, 10],\n",
        "    'Target': [11, 12, 13, 14, 15]\n",
        "}\n",
        "df = pd.DataFrame(data)\n",
        "\n",
        "# Separate features and target\n",
        "X = df[['Feature1', 'Feature2']]\n",
        "y = df['Target']\n",
        "\n",
        "# SelectKBest with f_regression\n",
        "selector = SelectKBest(score_func=f_regression, k=1)\n",
        "X_new = selector.fit_transform(X, y)\n",
        "\n",
        "print(\"\\nFeature Selection:\")\n",
        "print(\"Selected Features:\")\n",
        "print(X.columns[selector.get_support()])\n",
        "\n"
      ],
      "metadata": {
        "colab": {
          "base_uri": "https://localhost:8080/"
        },
        "id": "aXJzAdLRNVLu",
        "outputId": "5b19f7f7-a39a-416f-c4c2-8b5a09aec36d"
      },
      "execution_count": 6,
      "outputs": [
        {
          "output_type": "stream",
          "name": "stdout",
          "text": [
            "Polynomial Features:\n",
            "[[ 1.  1.  2.  1.  2.  4.]\n",
            " [ 1.  3.  4.  9. 12. 16.]\n",
            " [ 1.  5.  6. 25. 30. 36.]]\n",
            "\n",
            "Feature Selection:\n",
            "Selected Features:\n",
            "Index(['Feature2'], dtype='object')\n"
          ]
        }
      ]
    }
  ]
}