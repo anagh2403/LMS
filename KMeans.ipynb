{
  "nbformat": 4,
  "nbformat_minor": 0,
  "metadata": {
    "colab": {
      "provenance": []
    },
    "kernelspec": {
      "name": "python3",
      "display_name": "Python 3"
    },
    "language_info": {
      "name": "python"
    }
  },
  "cells": [
    {
      "cell_type": "code",
      "execution_count": null,
      "metadata": {
        "id": "3A6fWE1NFHWo"
      },
      "outputs": [],
      "source": [
        "import numpy as np\n",
        "import matplotlib.pyplot as plt\n",
        "import seaborn as sns\n",
        "from sklearn.cluster import KMeans\n",
        "from sklearn.datasets import make_blobs\n",
        "\n",
        "# Generate sample data\n",
        "X, y = make_blobs(n_samples=100, centers=4, random_state=0, cluster_std=0.7)\n",
        "\n",
        "# Perform k-means clustering\n",
        "k = 4\n",
        "kmeans = KMeans(n_clusters=k)\n",
        "kmeans.fit(X)\n",
        "\n",
        "# Plot the original data\n",
        "plt.figure(figsize=(10, 5))\n",
        "sns.scatterplot(x=X[:, 0], y=X[:, 1], hue=y, palette='Set1', s=100)\n",
        "plt.title(\"Original Data\")\n",
        "plt.xlabel(\"X1\")\n",
        "plt.ylabel(\"X2\")\n",
        "plt.show()\n",
        "\n",
        "# Plot the clustering result\n",
        "plt.figure(figsize=(10, 5))\n",
        "sns.scatterplot(x=X[:, 0], y=X[:, 1], hue=kmeans.labels_, palette='Set1', s=100)\n",
        "sns.scatterplot(\n",
        "    x=kmeans.cluster_centers_[:, 0],\n",
        "    y=kmeans.cluster_centers_[:, 1],\n",
        "    color='black',\n",
        "    marker='X',\n",
        "    s=200,\n",
        "    label='Centroids'\n",
        ")\n",
        "plt.title(\"K-Means Clustering\")\n",
        "plt.xlabel(\"X1\")\n",
        "plt.ylabel(\"X2\")\n",
        "plt.legend()\n",
        "plt.show()\n"
      ]
    }
  ]
}