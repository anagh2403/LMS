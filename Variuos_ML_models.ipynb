{
  "nbformat": 4,
  "nbformat_minor": 0,
  "metadata": {
    "colab": {
      "provenance": []
    },
    "kernelspec": {
      "name": "python3",
      "display_name": "Python 3"
    },
    "language_info": {
      "name": "python"
    }
  },
  "cells": [
    {
      "cell_type": "code",
      "source": [
        "from sklearn.datasets import load_iris\n",
        "from sklearn.model_selection import train_test_split\n",
        "from sklearn.linear_model import LinearRegression, LogisticRegression\n",
        "from sklearn.neighbors import KNeighborsClassifier\n",
        "from sklearn.tree import DecisionTreeClassifier\n",
        "from sklearn.naive_bayes import GaussianNB\n",
        "from sklearn.ensemble import RandomForestClassifier\n",
        "\n",
        "# Load the Iris dataset\n",
        "data = load_iris()\n",
        "X = data.data\n",
        "y = data.target\n",
        "\n",
        "# Split the dataset into training and testing sets\n",
        "X_train, X_test, y_train, y_test = train_test_split(X, y, test_size=0.2, random_state=42)\n",
        "\n",
        "# Linear Regression\n",
        "linear_regression = LinearRegression()\n",
        "linear_regression.fit(X_train, y_train)\n",
        "linear_regression_predictions = linear_regression.predict(X_test)\n",
        "print(\"Linear Regression Predictions:\")\n",
        "print(linear_regression_predictions)\n",
        "\n",
        "# Logistic Regression\n",
        "logistic_regression = LogisticRegression()\n",
        "logistic_regression.fit(X_train, y_train)\n",
        "logistic_regression_predictions = logistic_regression.predict(X_test)\n",
        "print(\"\\nLogistic Regression Predictions:\")\n",
        "print(logistic_regression_predictions)\n",
        "\n",
        "# k-nearest neighbors (KNN)\n",
        "knn = KNeighborsClassifier(n_neighbors=3)\n",
        "knn.fit(X_train, y_train)\n",
        "knn_predictions = knn.predict(X_test)\n",
        "print(\"\\nKNN Predictions:\")\n",
        "print(knn_predictions)\n",
        "\n",
        "# Decision Tree\n",
        "decision_tree = DecisionTreeClassifier()\n",
        "decision_tree.fit(X_train, y_train)\n",
        "decision_tree_predictions = decision_tree.predict(X_test)\n",
        "print(\"\\nDecision Tree Predictions:\")\n",
        "print(decision_tree_predictions)\n",
        "\n",
        "# Naive Bayes\n",
        "naive_bayes = GaussianNB()\n",
        "naive_bayes.fit(X_train, y_train)\n",
        "naive_bayes_predictions = naive_bayes.predict(X_test)\n",
        "print(\"\\nNaive Bayes Predictions:\")\n",
        "print(naive_bayes_predictions)\n",
        "\n",
        "# Random Forest\n",
        "random_forest = RandomForestClassifier()\n",
        "random_forest.fit(X_train, y_train)\n",
        "random_forest_predictions = random_forest.predict(X_test)\n",
        "print(\"\\nRandom Forest Predictions:\")\n",
        "print(random_forest_predictions)\n",
        "\n"
      ],
      "metadata": {
        "colab": {
          "base_uri": "https://localhost:8080/"
        },
        "id": "aXJzAdLRNVLu",
        "outputId": "2775fb18-0e3e-4575-d4ad-9d24a26a0d52"
      },
      "execution_count": 5,
      "outputs": [
        {
          "output_type": "stream",
          "name": "stdout",
          "text": [
            "Linear Regression Predictions:\n",
            "[ 1.23071715 -0.04010441  2.21970287  1.34966889  1.28429336  0.02248402\n",
            "  1.05726124  1.82403704  1.36824643  1.06766437  1.70031437 -0.07357413\n",
            " -0.15562919 -0.06569402 -0.02128628  1.39659966  2.00022876  1.04812731\n",
            "  1.28102792  1.97283506  0.03184612  1.59830192  0.09450931  1.91807547\n",
            "  1.83296682  1.87877315  1.78781234  2.03362373  0.03594506  0.02619043]\n",
            "\n",
            "Logistic Regression Predictions:\n",
            "[1 0 2 1 1 0 1 2 1 1 2 0 0 0 0 1 2 1 1 2 0 2 0 2 2 2 2 2 0 0]\n",
            "\n",
            "KNN Predictions:\n",
            "[1 0 2 1 1 0 1 2 1 1 2 0 0 0 0 1 2 1 1 2 0 2 0 2 2 2 2 2 0 0]\n",
            "\n",
            "Decision Tree Predictions:\n",
            "[1 0 2 1 1 0 1 2 1 1 2 0 0 0 0 1 2 1 1 2 0 2 0 2 2 2 2 2 0 0]\n",
            "\n",
            "Naive Bayes Predictions:\n",
            "[1 0 2 1 1 0 1 2 1 1 2 0 0 0 0 1 2 1 1 2 0 2 0 2 2 2 2 2 0 0]\n"
          ]
        },
        {
          "output_type": "stream",
          "name": "stderr",
          "text": [
            "/usr/local/lib/python3.10/dist-packages/sklearn/linear_model/_logistic.py:458: ConvergenceWarning: lbfgs failed to converge (status=1):\n",
            "STOP: TOTAL NO. of ITERATIONS REACHED LIMIT.\n",
            "\n",
            "Increase the number of iterations (max_iter) or scale the data as shown in:\n",
            "    https://scikit-learn.org/stable/modules/preprocessing.html\n",
            "Please also refer to the documentation for alternative solver options:\n",
            "    https://scikit-learn.org/stable/modules/linear_model.html#logistic-regression\n",
            "  n_iter_i = _check_optimize_result(\n"
          ]
        },
        {
          "output_type": "stream",
          "name": "stdout",
          "text": [
            "\n",
            "Random Forest Predictions:\n",
            "[1 0 2 1 1 0 1 2 1 1 2 0 0 0 0 1 2 1 1 2 0 2 0 2 2 2 2 2 0 0]\n"
          ]
        }
      ]
    }
  ]
}