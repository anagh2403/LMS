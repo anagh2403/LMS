{
  "nbformat": 4,
  "nbformat_minor": 0,
  "metadata": {
    "colab": {
      "provenance": []
    },
    "kernelspec": {
      "name": "python3",
      "display_name": "Python 3"
    },
    "language_info": {
      "name": "python"
    }
  },
  "cells": [
    {
      "cell_type": "code",
      "source": [
        "import numpy as np\n",
        "from sklearn.decomposition import PCA\n",
        "\n",
        "# Create a sample matrix\n",
        "X = np.array([[1, 2, 3],\n",
        "              [4, 5, 6],\n",
        "              [7, 8, 9],\n",
        "              [10, 11, 12]])\n",
        "\n",
        "# Singular Value Decomposition (SVD)\n",
        "U, S, V = np.linalg.svd(X, full_matrices=False)\n",
        "\n",
        "print(\"Singular Value Decomposition (SVD):\")\n",
        "print(\"U:\")\n",
        "print(U)\n",
        "print(\"S:\")\n",
        "print(np.diag(S))\n",
        "print(\"V:\")\n",
        "print(V)\n",
        "\n",
        "# Principal Component Analysis (PCA)\n",
        "pca = PCA(n_components=2)\n",
        "X_pca = pca.fit_transform(X)\n",
        "\n",
        "print(\"\\nPrincipal Component Analysis (PCA):\")\n",
        "print(\"Explained Variance Ratio:\")\n",
        "print(pca.explained_variance_ratio_)\n",
        "print(\"Principal Components:\")\n",
        "print(X_pca)\n"
      ],
      "metadata": {
        "colab": {
          "base_uri": "https://localhost:8080/"
        },
        "id": "aXJzAdLRNVLu",
        "outputId": "082c914f-27d0-4534-8ad4-2a546d04cecb"
      },
      "execution_count": 3,
      "outputs": [
        {
          "output_type": "stream",
          "name": "stdout",
          "text": [
            "Singular Value Decomposition (SVD):\n",
            "U:\n",
            "[[-0.14087668 -0.82471435  0.53999635]\n",
            " [-0.34394629 -0.42626394 -0.65166613]\n",
            " [-0.54701591 -0.02781353 -0.31665681]\n",
            " [-0.75008553  0.37063688  0.42832658]]\n",
            "S:\n",
            "[[2.54624074e+01 0.00000000e+00 0.00000000e+00]\n",
            " [0.00000000e+00 1.29066168e+00 0.00000000e+00]\n",
            " [0.00000000e+00 0.00000000e+00 2.40694596e-15]]\n",
            "V:\n",
            "[[-0.50453315 -0.5745157  -0.64449826]\n",
            " [ 0.76077568  0.05714052 -0.64649464]\n",
            " [-0.40824829  0.81649658 -0.40824829]]\n",
            "\n",
            "Principal Component Analysis (PCA):\n",
            "Explained Variance Ratio:\n",
            "[1. 0.]\n",
            "Principal Components:\n",
            "[[-7.79422863  0.        ]\n",
            " [-2.59807621  0.        ]\n",
            " [ 2.59807621  0.        ]\n",
            " [ 7.79422863 -0.        ]]\n"
          ]
        }
      ]
    }
  ]
}